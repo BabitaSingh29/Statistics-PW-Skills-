{
 "cells": [
  {
   "cell_type": "markdown",
   "id": "38d4b4a9-9c80-4af8-ad0d-48e275ac90da",
   "metadata": {},
   "source": [
    "## Q1. What is the Probability density function?"
   ]
  },
  {
   "cell_type": "markdown",
   "id": "f502954e-b178-4c7c-86f7-8180ee59e1a7",
   "metadata": {},
   "source": [
    "A Probability Density Function (PDF) is a mathematical function that describes the relative likelihood of a continuous random variable taking on a given value. The PDF represents the distribution of probabilities for all possible values of the random variable, and the area under the curve of the PDF between any two values of the variable gives the probability of the variable taking a value within that range.\n",
    "\n",
    "The PDF can be thought of as a continuous version of a probability distribution. Unlike a discrete probability distribution, which assigns a probability to each possible value of a discrete random variable, the PDF assigns probabilities to ranges of possible values of a continuous random variable.\n",
    "\n",
    "Mathematically, the PDF is defined as the derivative of the cumulative distribution function (CDF) of the random variable. The PDF is non-negative and integrates to one over the entire range of the random variable."
   ]
  },
  {
   "cell_type": "markdown",
   "id": "2e3afbc8-5532-49a8-af67-e8a429f8d947",
   "metadata": {},
   "source": [
    "## Q2. What are the types of Probability distribution?"
   ]
  },
  {
   "cell_type": "markdown",
   "id": "5b0d1413-2df1-4583-bb05-975bc07ffb6d",
   "metadata": {},
   "source": [
    "There are many different types of probability distributions, but they can be broadly classified into two categories: discrete probability distributions and continuous probability distributions.\n",
    "\n",
    "Discrete Probability Distributions: Discrete probability distributions are used to describe the probability of occurrence of discrete random variables. Examples of discrete probability distributions include the Bernoulli distribution, binomial distribution, Poisson distribution, and geometric distribution.\n",
    "\n",
    "Continuous Probability Distributions: Continuous probability distributions are used to describe the probability of occurrence of continuous random variables. Examples of continuous probability distributions include the normal distribution, uniform distribution, exponential distribution, and beta distribution.\n",
    "\n",
    "The choice of probability distribution depends on the nature of the data and the specific problem at hand. The appropriate distribution should be chosen to accurately model the data and to make inferences and predictions about the population of interest."
   ]
  },
  {
   "cell_type": "markdown",
   "id": "742f09e3-8666-4ee9-a3ff-f74097691005",
   "metadata": {},
   "source": [
    "## Q3. Write a Python function to calculate the probability density function of a normal distribution with given mean and standard deviation at a given point."
   ]
  },
  {
   "cell_type": "code",
   "execution_count": 1,
   "id": "ac31a01c-162c-4b34-a688-da796e9f78eb",
   "metadata": {},
   "outputs": [
    {
     "name": "stdout",
     "output_type": "stream",
     "text": [
      "0.05399096651318806\n"
     ]
    }
   ],
   "source": [
    "import math\n",
    "\n",
    "def normal_pdf(x, mu, sigma):\n",
    "    \"\"\"\n",
    "    Calculates the probability density function of a normal distribution with mean mu and standard deviation sigma at the point x.\n",
    "    \"\"\"\n",
    "    exponent = -0.5 * ((x - mu) / sigma) ** 2\n",
    "    coefficient = 1 / (sigma * math.sqrt(2 * math.pi))\n",
    "    return coefficient * math.exp(exponent)\n",
    "\n",
    "pdf_value = normal_pdf(x=2, mu=0, sigma=1)\n",
    "print(pdf_value)"
   ]
  },
  {
   "cell_type": "markdown",
   "id": "e91c4bd5-58c8-4e86-82ab-53c7609f6191",
   "metadata": {},
   "source": [
    "## Q4. What are the properties of Binomial distribution? Give two examples of events where binomial distribution can be applied."
   ]
  },
  {
   "cell_type": "markdown",
   "id": "739fdf4e-1911-47b7-b8f1-d248ed7f6f0e",
   "metadata": {},
   "source": [
    "The binomial distribution is a discrete probability distribution that describes the probability of a fixed number of successes in a fixed number of independent Bernoulli trials, where each trial has the same probability of success.\n",
    "\n",
    "The properties of the binomial distribution are:\n",
    "\n",
    "Fixed number of trials: The number of trials is fixed and denoted by n.\n",
    "Independent trials: Each trial is independent of the others.\n",
    "Two possible outcomes: Each trial has only two possible outcomes, success or failure.\n",
    "Constant probability of success: The probability of success, denoted by p, is constant for all trials.\n",
    "Discrete values: The number of successes, denoted by k, is a discrete variable that takes values from 0 to n.\n",
    "Two examples of events where binomial distribution can be applied are:\n",
    "\n",
    "Tossing a Coin: When tossing a fair coin, there are two possible outcomes - heads or tails - with a fixed probability of 0.5 for each outcome. If we toss the coin n times and want to know the probability of getting k heads, we can model this as a binomial distribution with n trials, a probability of success of 0.5, and the number of successes k.\n",
    "\n",
    "Manufacturing Defects: A company manufactures electronic components that have a defect rate of 2%. If we randomly sample n components from the production line and want to know the probability that k of them are defective, we can model this as a binomial distribution with n trials, a probability of success of 0.02 (the probability of a component being defective), and the number of successes k.\n",
    "\n",
    "In both of these examples, the binomial distribution allows us to model the probability of a fixed number of successes in a fixed number of independent trials, where each trial has the same probability of success."
   ]
  },
  {
   "cell_type": "markdown",
   "id": "5eadc837-e09c-4e47-a458-51b7d1fd0edd",
   "metadata": {},
   "source": [
    "## Q5. Generate a random sample of size 1000 from a binomial distribution with probability of success 0.4 and plot a histogram of the results using matplotlib."
   ]
  },
  {
   "cell_type": "code",
   "execution_count": 1,
   "id": "7f47d2ac-ab50-4944-a296-d6957b5bf5cd",
   "metadata": {},
   "outputs": [
    {
     "data": {
      "image/png": "[encoded data removed]",
      "text/plain": [
       "<Figure size 640x480 with 1 Axes>"
      ]
     },
     "metadata": {},
     "output_type": "display_data"
    }
   ],
   "source": [
    "import numpy as np\n",
    "import matplotlib.pyplot as plt\n",
    "\n",
    "# Set the parameters of the binomial distribution\n",
    "n = 10\n",
    "p = 0.4\n",
    "\n",
    "# Generate a random sample of size 1000 from the binomial distribution\n",
    "sample = np.random.binomial(n, p, size=1000)\n",
    "\n",
    "# Plot a histogram of the results\n",
    "plt.hist(sample, bins=range(n+1), align='left', rwidth=0.8)\n",
    "plt.xticks(range(n))\n",
    "plt.xlabel('Number of Successes')\n",
    "plt.ylabel('Frequency')\n",
    "plt.title('Histogram of Binomial Distribution (n={}, p={})'.format(n, p))\n",
    "plt.show()"
   ]
  },
  {
   "cell_type": "markdown",
   "id": "0e90f1b3-aa70-44fe-84ad-f6e54215462e",
   "metadata": {},
   "source": [
    "## Q6. Write a Python function to calculate the cumulative distribution function of a Poisson distribution with given mean at a given point."
   ]
  },
  {
   "cell_type": "code",
   "execution_count": 2,
   "id": "cf458842-6260-4e1b-a759-0a01d7fb39ed",
   "metadata": {},
   "outputs": [
    {
     "name": "stdout",
     "output_type": "stream",
     "text": [
      "The cumulative distribution function of a Poisson distribution with mean 2.5 at point 3 is 0.7576\n"
     ]
    }
   ],
   "source": [
    "import math\n",
    "\n",
    "def poisson_cdf(mu, k):\n",
    "    cdf = 0.0\n",
    "    for i in range(k+1):\n",
    "        cdf += math.exp(-mu) * (mu ** i) / math.factorial(i)\n",
    "    return cdf\n",
    "mu = 2.5\n",
    "k = 3\n",
    "cdf = poisson_cdf(mu, k)\n",
    "print(\"The cumulative distribution function of a Poisson distribution with mean {} at point {} is {:.4f}\".format(mu, k, cdf))"
   ]
  },
  {
   "cell_type": "markdown",
   "id": "2cb5f7d6-c02d-4fd6-b301-b6c2e96b3efe",
   "metadata": {},
   "source": [
    "## Q7. How Binomial distribution different from Poisson distribution?"
   ]
  },
  {
   "cell_type": "markdown",
   "id": "38013501-4020-42fb-9aa2-5499c0cb4fcd",
   "metadata": {},
   "source": [
    "Binomial distribution and Poisson distribution are both discrete probability distributions that describe the number of events that occur in a given number of trials. However, there are some key differences between the two distributions.\n",
    "\n",
    "1>Parameters: The Binomial distribution is characterized by two parameters: the number of trials n and the probability of success p. In contrast, the Poisson distribution is characterized by one parameter: the average rate λ at which events occur.\n",
    "\n",
    "2>Application: The Binomial distribution is used to model the number of successes in a fixed number of independent trials, where the probability of success is constant across all trials. The Poisson distribution, on the other hand, is used to model the number of rare events that occur over a fixed interval of time or space.\n",
    "\n",
    "3>Shape: The shape of the Binomial distribution is symmetric when p = 0.5, and becomes increasingly skewed as p approaches 0 or 1. In contrast, the Poisson distribution is typically skewed to the right, and becomes more symmetric as the rate parameter λ increases.\n",
    "\n",
    "4>Limitations: The Binomial distribution is appropriate when the number of trials n is large and the probability of success p is small, but the mean np is not too small. The Poisson distribution is appropriate when the rate parameter λ is small, but the product of the rate and the observation time or space is moderate to large."
   ]
  },
  {
   "cell_type": "markdown",
   "id": "cb75f761-1b2b-40e7-92df-404972c5b287",
   "metadata": {},
   "source": [
    "## Q8. Generate a random sample of size 1000 from a Poisson distribution with mean 5 and calculate the sample mean and variance."
   ]
  },
  {
   "cell_type": "code",
   "execution_count": 3,
   "id": "dd171583-f2c1-4cdb-8284-4808dd314be2",
   "metadata": {},
   "outputs": [
    {
     "name": "stdout",
     "output_type": "stream",
     "text": [
      "Sample mean: 4.9190\n",
      "Sample variance: 5.0304\n"
     ]
    }
   ],
   "source": [
    "import numpy as np\n",
    "\n",
    "# Set the random seed for reproducibility\n",
    "np.random.seed(123)\n",
    "\n",
    "# Generate a random sample of size 1000 from a Poisson distribution with mean 5\n",
    "sample = np.random.poisson(5, size=1000)\n",
    "\n",
    "# Calculate the sample mean and variance\n",
    "mean = np.mean(sample)\n",
    "variance = np.var(sample)\n",
    "\n",
    "print(\"Sample mean: {:.4f}\".format(mean))\n",
    "print(\"Sample variance: {:.4f}\".format(variance))"
   ]
  },
  {
   "cell_type": "markdown",
   "id": "ec0d093b-228b-42b5-96f0-3f8ca54e5b11",
   "metadata": {},
   "source": [
    "## Q9. How mean and variance are related in Binomial distribution and Poisson distribution?"
   ]
  },
  {
   "cell_type": "markdown",
   "id": "e256cd95-03d5-4afb-aae8-a9b163797b61",
   "metadata": {},
   "source": [
    "In both the Binomial and Poisson distributions, the mean and variance are related in a similar way.\n",
    "\n",
    "For the Binomial distribution with parameters n and p, the mean is given by μ = np and the variance is given by σ^2 = np(1-p). Thus, the variance is a function of both the number of trials n and the probability of success p. As p gets closer to 0 or 1, the variance decreases, reflecting the fact that the distribution becomes increasingly concentrated around the mean.\n",
    "\n",
    "For the Poisson distribution with parameter λ, the mean is also given by μ = λ and the variance is also given by σ^2 = λ. Thus, the variance is a function of the rate parameter λ. As λ increases, the variance also increases, reflecting the fact that the distribution becomes more spread out around the mean.\n",
    "\n",
    "In both distributions, when the mean is large, the variance is also large, indicating that the distribution is more spread out. Conversely, when the mean is small, the variance is also small, indicating that the distribution is more tightly clustered around the mean.\n",
    "\n",
    "In summary, for both the Binomial and Poisson distributions, the variance is related to the mean in a way that reflects the degree of spread or concentration of the distribution."
   ]
  },
  {
   "cell_type": "markdown",
   "id": "2d38b006-cc5a-4d96-9e2d-25d478c9513c",
   "metadata": {},
   "source": [
    "## Q10. In normal distribution with respect to mean position, where does the least frequent data appear?"
   ]
  },
  {
   "cell_type": "markdown",
   "id": "91ef7adc-a656-4b3d-98af-9bbd3e96d000",
   "metadata": {},
   "source": [
    "In a normal distribution, the least frequent data appears at the tails of the distribution, farthest from the mean. This is because the normal distribution is symmetric and bell-shaped, with the majority of the data clustered around the mean. The tails of the distribution represent the extreme values that are less likely to occur, since they are located far away from the mean.\n",
    "\n",
    "Specifically, in a normal distribution with mean μ and standard deviation σ, the least frequent data appears at the values that are 3σ or more away from the mean in either direction. This is because about 99.7% of the data falls within 3σ of the mean, leaving only 0.3% of the data to be spread out across the tails of the distribution.\n",
    "\n",
    "Therefore, the least frequent data in a normal distribution appears at the extreme values that are located at the tails of the distribution, farthest from the mean."
   ]
  }
 ],
 "metadata": {
  "kernelspec": {
   "display_name": "Python 3 (ipykernel)",
   "language": "python",
   "name": "python3"
  },
  "language_info": {
   "codemirror_mode": {
    "name": "ipython",
    "version": 3
   },
   "file_extension": ".py",
   "mimetype": "text/x-python",
   "name": "python",
   "nbconvert_exporter": "python",
   "pygments_lexer": "ipython3",
   "version": "3.10.8"
  }
 },
 "nbformat": 4,
 "nbformat_minor": 5
}
