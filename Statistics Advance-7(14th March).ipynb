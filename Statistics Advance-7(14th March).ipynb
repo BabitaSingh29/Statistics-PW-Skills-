{
 "cells": [
  {
   "cell_type": "markdown",
   "id": "251df4d8-3e07-4520-b78a-720508fac8a6",
   "metadata": {},
   "source": [
    "## Q1. Write a Python function that takes in two arrays of data and calculates the F-value for a variance ratio test. The function should return the F-value and the corresponding p-value for the test."
   ]
  },
  {
   "cell_type": "code",
   "execution_count": 1,
   "id": "f2cdaffc-290e-4082-8870-067d6fe5352a",
   "metadata": {},
   "outputs": [],
   "source": [
    "import numpy as np\n",
    "from scipy.stats import f\n",
    "\n",
    "def variance_ratio_test(data1, data2):\n",
    "    \"\"\"\n",
    "    Compute the variance ratio test for two arrays of data.\n",
    "    Assumes that the arrays have the same length.\n",
    "    \"\"\"\n",
    "    # Compute the differences and log differences between adjacent observations\n",
    "    diff1 = np.diff(data1)\n",
    "    diff2 = np.diff(data2)\n",
    "    log_diff1 = np.log(data1[1:]) - np.log(data1[:-1])\n",
    "    log_diff2 = np.log(data2[1:]) - np.log(data2[:-1])\n",
    "\n",
    "    # Compute the variances of the differences and log differences\n",
    "    s1_sq = np.mean(np.square(diff1 - diff2))\n",
    "    s2_sq = np.mean(np.square(log_diff1 - log_diff2))\n",
    "\n",
    "    # Compute the test statistic and degrees of freedom\n",
    "    n = len(data1)\n",
    "    F = s2_sq / s1_sq\n",
    "    df1 = n/2\n",
    "    df2 = n/2\n",
    "\n",
    "    # Compute the p-value for the test\n",
    "    p_value = 1 - f.cdf(F, df1, df2)\n",
    "\n",
    "    return F, p_value"
   ]
  },
  {
   "cell_type": "markdown",
   "id": "517d32c3-604c-49a9-b83c-dce82d31d038",
   "metadata": {},
   "source": [
    "This function takes in two arrays of data (data1 and data2), which are assumed to have the same length. It then computes the differences and log differences between adjacent observations for each array, and calculates the variances of these differences. The variances are then used to compute the F-value for the variance ratio test, along with the degrees of freedom for the test. Finally, the function uses the F-distribution to compute the corresponding p-value for the test. The function returns both the F-value and the p-value."
   ]
  },
  {
   "cell_type": "markdown",
   "id": "500a1c8e-90db-40d8-bdb8-4e7d2d18142f",
   "metadata": {},
   "source": [
    "## Q2. Given a significance level of 0.05 and the degrees of freedom for the numerator and denominator of an F-distribution, write a Python function that returns the critical F-value for a two-tailed test."
   ]
  },
  {
   "cell_type": "code",
   "execution_count": null,
   "id": "e95622c7-9501-4cc6-9b10-b2f4589f2532",
   "metadata": {},
   "outputs": [],
   "source": [
    "from scipy.stats import f\n",
    "\n",
    "def critical_f_value(df1, df2):\n",
    "    \"\"\"\n",
    "    Compute the critical F-value for a two-tailed test given a significance level of 0.05\n",
    "    and the degrees of freedom for the numerator and denominator of an F-distribution.\n",
    "    \"\"\"\n",
    "    alpha = 0.05\n",
    "    f_critical = f.ppf(alpha/2, df1, df2)\n",
    "    return f_critical"
   ]
  },
  {
   "cell_type": "markdown",
   "id": "175830fc-29d6-4cfb-acab-93f53777bde9",
   "metadata": {},
   "source": [
    "This function uses the f.ppf() function from the scipy.stats module to compute the critical F-value for a two-tailed test at a significance level of 0.05. The f.ppf() function takes the significance level (alpha) divided by 2 as its first argument, and the degrees of freedom for the numerator and denominator of the F-distribution as its next two arguments (df1 and df2, respectively). The resulting critical F-value is then returned by the function."
   ]
  },
  {
   "cell_type": "markdown",
   "id": "3d124d1e-5d46-469f-a108-040c19a66aec",
   "metadata": {},
   "source": [
    "## Q3. Write a Python program that generates random samples from two normal distributions with known variances and uses an F-test to determine if the variances are equal. The program should output the F- value, degrees of freedom, and p-value for the test."
   ]
  },
  {
   "cell_type": "code",
   "execution_count": null,
   "id": "92e3cdb7-7009-450f-bffe-dff06f7c298c",
   "metadata": {},
   "outputs": [],
   "source": [
    "import numpy as np\n",
    "from scipy.stats import f\n",
    "\n",
    "# Set the random seed for reproducibility\n",
    "np.random.seed(123)\n",
    "\n",
    "# Set the sample sizes and variances for the two normal distributions\n",
    "n1, n2 = 50, 40\n",
    "var1, var2 = 1.5**2, 1.8**2\n",
    "\n",
    "# Generate random samples from the two normal distributions\n",
    "data1 = np.random.normal(loc=0, scale=np.sqrt(var1), size=n1)\n",
    "data2 = np.random.normal(loc=0, scale=np.sqrt(var2), size=n2)\n",
    "\n",
    "# Compute the F-value and p-value for the variance ratio test\n",
    "F = np.var(data1) / np.var(data2)\n",
    "df1 = n1 - 1\n",
    "df2 = n2 - 1\n",
    "p_value = 1 - f.cdf(F, df1, df2)\n",
    "\n",
    "# Print the results of the variance ratio test\n",
    "print(\"F-value: {:.4f}\".format(F))\n",
    "print(\"Degrees of freedom: {}, {}\".format(df1, df2))\n",
    "print(\"p-value: {:.4f}\".format(p_value))"
   ]
  },
  {
   "cell_type": "markdown",
   "id": "59781dfd-38e6-42d3-a9a5-4ec777dd8c2a",
   "metadata": {},
   "source": [
    "This program generates random samples from two normal distributions with known variances (var1 and var2) and sample sizes (n1 and n2). It then computes the F-value and p-value for the variance ratio test using the np.var() function to compute the sample variances and the f.cdf() function from the scipy.stats module to compute the p-value. The degrees of freedom for the test are also computed based on the sample sizes (n1 and n2). Finally, the program prints out the F-value, degrees of freedom, and p-value for the test. Note that the results of the test will be different each time the program is run due to the random generation of the samples."
   ]
  },
  {
   "cell_type": "markdown",
   "id": "f6f340fe-9786-47d1-86f3-3b2a7467dc1d",
   "metadata": {},
   "source": [
    "## Q4.The variances of two populations are known to be 10 and 15. A sample of 12 observations is taken from each population. Conduct an F-test at the 5% significance level to determine if the variances are significantly different."
   ]
  },
  {
   "cell_type": "code",
   "execution_count": 3,
   "id": "83d48a11-4cfb-40d2-8c1d-86233369fb2d",
   "metadata": {},
   "outputs": [
    {
     "name": "stdout",
     "output_type": "stream",
     "text": [
      "Fail to reject the null hypothesis: The variances are not significantly different.\n"
     ]
    }
   ],
   "source": [
    "import numpy as np\n",
    "from scipy.stats import f\n",
    "\n",
    "# Define the sample sizes and known variances\n",
    "n1, n2 = 12, 12\n",
    "var1, var2 = 10, 15\n",
    "\n",
    "# Generate random samples from the two populations\n",
    "data1 = np.random.normal(loc=0, scale=np.sqrt(var1), size=n1)\n",
    "data2 = np.random.normal(loc=0, scale=np.sqrt(var2), size=n2)\n",
    "\n",
    "# Compute the F-value and p-value for the variance ratio test\n",
    "F = np.var(data1) / np.var(data2)\n",
    "df1 = n1 - 1\n",
    "df2 = n2 - 1\n",
    "p_value = 1 - f.cdf(F, df1, df2)\n",
    "\n",
    "# Set the significance level\n",
    "alpha = 0.05\n",
    "\n",
    "# Conduct the hypothesis test\n",
    "if p_value < alpha:\n",
    "    print(\"Reject the null hypothesis: The variances are significantly different.\")\n",
    "else:\n",
    "    print(\"Fail to reject the null hypothesis: The variances are not significantly different.\")"
   ]
  },
  {
   "cell_type": "markdown",
   "id": "202552fa-718f-45be-8bd0-dadf399567e4",
   "metadata": {},
   "source": [
    "This program generates random samples from the two populations with known variances (var1 and var2) and sample sizes of 12 observations each (n1 and n2). It then computes the F-value and p-value for the variance ratio test using the np.var() function to compute the sample variances and the f.cdf() function from the scipy.stats module to compute the p-value. The degrees of freedom for the test are also computed based on the sample sizes (n1 and n2). Finally, the program conducts the hypothesis test at the 5% significance level and prints out the conclusion of the test."
   ]
  },
  {
   "cell_type": "markdown",
   "id": "addbd871-333a-46ff-beae-6760b5e6974a",
   "metadata": {},
   "source": [
    "## Q5. A manufacturer claims that the variance of the diameter of a certain product is 0.005. A sample of 25 products is taken, and the sample variance is found to be 0.006. Conduct an F-test at the 1% significance level to determine if the claim is justified."
   ]
  },
  {
   "cell_type": "code",
   "execution_count": 2,
   "id": "e4444b12-1f14-424b-92c6-a4ecfe6fb8df",
   "metadata": {},
   "outputs": [
    {
     "name": "stdout",
     "output_type": "stream",
     "text": [
      "Fail to reject the null hypothesis: The claim of variance 0.005 is justified.\n"
     ]
    }
   ],
   "source": [
    "import numpy as np\n",
    "from scipy.stats import f\n",
    "\n",
    "# Define the null hypothesis variance and the sample variance\n",
    "null_var = 0.005\n",
    "sample_var = 0.006\n",
    "n = 25\n",
    "\n",
    "# Compute the F-value and p-value for the variance ratio test\n",
    "F = sample_var / null_var\n",
    "df1 = n - 1\n",
    "df2 = np.inf\n",
    "p_value = 1 - f.cdf(F, df1, df2)\n",
    "\n",
    "# Set the significance level\n",
    "alpha = 0.01\n",
    "\n",
    "# Conduct the hypothesis test\n",
    "if p_value < alpha:\n",
    "    print(\"Reject the null hypothesis: The claim of variance 0.005 is not justified.\")\n",
    "else:\n",
    "    print(\"Fail to reject the null hypothesis: The claim of variance 0.005 is justified.\")"
   ]
  },
  {
   "cell_type": "markdown",
   "id": "a9479a46-874c-4911-b797-b5680740f896",
   "metadata": {},
   "source": [
    "This program conducts an F-test at the 1% significance level to determine if the claim that the variance of the diameter of a certain product is 0.005 is justified. It uses the sample variance of 0.006 and a sample size of 25 to compute the F-value and p-value for the variance ratio test using the f.cdf() function from the scipy.stats module. The degrees of freedom for the test are computed based on the sample size (n) and the null hypothesis variance. Finally, the program conducts the hypothesis test and prints out the conclusion of the test."
   ]
  },
  {
   "cell_type": "markdown",
   "id": "147a114c-bf1b-4dfc-8554-52f4835fbe63",
   "metadata": {},
   "source": [
    "## Q6. Write a Python function that takes in the degrees of freedom for the numerator and denominator of an F-distribution and calculates the mean and variance of the distribution. The function should return the mean and variance as a tuple."
   ]
  },
  {
   "cell_type": "code",
   "execution_count": null,
   "id": "d0241982-9bb9-4387-94b2-e8cf4c7c61e2",
   "metadata": {},
   "outputs": [],
   "source": [
    "def f_distribution_mean_var(df1, df2):\n",
    "    mean = df2 / (df2 - 2)\n",
    "    variance = (2 * df2 ** 2 * (df1 + df2 - 2)) / (df1 * (df2 - 2) ** 2 * (df2 - 4))\n",
    "    return mean, variance"
   ]
  },
  {
   "cell_type": "markdown",
   "id": "ca6b701f-a0b8-4750-8b86-bc7532789857",
   "metadata": {},
   "source": [
    "This function uses the formula for the mean and variance of an F-distribution, which are:\n",
    "\n",
    "Mean = df2 / (df2 - 2)\n",
    "\n",
    "Variance = (2 * df2^2 * (df1 + df2 - 2)) / (df1 * (df2 - 2)^2 * (df2 - 4))\n",
    "\n",
    "where df1 and df2 are the degrees of freedom for the numerator and denominator, respectively.\n",
    "\n",
    "The function returns the mean and variance as a tuple. You can call this function and pass in the degrees of freedom to calculate the mean and variance of the F-distribution."
   ]
  },
  {
   "cell_type": "markdown",
   "id": "607d8bd6-8f84-4044-9bb9-9bf3a52066b3",
   "metadata": {},
   "source": [
    "## Q7. A random sample of 10 measurements is taken from a normal population with unknown variance. The sample variance is found to be 25. Another random sample of 15 measurements is taken from another normal population with unknown variance, and the sample variance is found to be 20. Conduct an F-test at the 10% significance level to determine if the variances are significantly different."
   ]
  },
  {
   "cell_type": "code",
   "execution_count": 4,
   "id": "3ca1deb7-bc41-4b81-a0ea-c663e6093dae",
   "metadata": {},
   "outputs": [
    {
     "name": "stdout",
     "output_type": "stream",
     "text": [
      "Fail to reject the null hypothesis: The variances are not significantly different.\n"
     ]
    }
   ],
   "source": [
    "import numpy as np\n",
    "from scipy.stats import f\n",
    "\n",
    "# Define the sample variances and sample sizes\n",
    "s1_squared = 25\n",
    "s2_squared = 20\n",
    "n1 = 10\n",
    "n2 = 15\n",
    "\n",
    "# Compute the F-value and p-value for the variance ratio test\n",
    "F = s1_squared / s2_squared\n",
    "df1 = n1 - 1\n",
    "df2 = n2 - 1\n",
    "p_value = 2 * (1 - f.cdf(F, df1, df2))\n",
    "\n",
    "# Set the significance level\n",
    "alpha = 0.1\n",
    "\n",
    "# Conduct the hypothesis test\n",
    "if p_value < alpha:\n",
    "    print(\"Reject the null hypothesis: The variances are significantly different.\")\n",
    "else:\n",
    "    print(\"Fail to reject the null hypothesis: The variances are not significantly different.\")"
   ]
  },
  {
   "cell_type": "markdown",
   "id": "1004aa8b-ce3e-4b21-bbf6-4ceacec9aeeb",
   "metadata": {},
   "source": [
    "This program conducts an F-test at the 10% significance level to determine if the variances of two normal populations are significantly different. It uses the sample variances of 25 and 20, and sample sizes of 10 and 15 to compute the F-value and p-value for the variance ratio test using the f.cdf() function from the scipy.stats module. The degrees of freedom for the test are computed based on the sample sizes (n1 and n2). Finally, the program conducts the hypothesis test and prints out the conclusion of the test."
   ]
  },
  {
   "cell_type": "markdown",
   "id": "e696c52e-06ea-4bd9-b7d0-f752f8667e76",
   "metadata": {},
   "source": [
    "## Q8. The following data represent the waiting times in minutes at two different restaurants on a Saturday night: Restaurant A: 24, 25, 28, 23, 22, 20, 27; Restaurant B: 31, 33, 35, 30, 32, 36. Conduct an F-test at the 5% significance level to determine if the variances are significantly different."
   ]
  },
  {
   "cell_type": "code",
   "execution_count": 5,
   "id": "9e046f3f-8c09-4903-81bb-202dd9c9ee7c",
   "metadata": {},
   "outputs": [
    {
     "name": "stdout",
     "output_type": "stream",
     "text": [
      "Fail to reject the null hypothesis: The variances are not significantly different.\n"
     ]
    }
   ],
   "source": [
    "import numpy as np\n",
    "from scipy.stats import f\n",
    "\n",
    "# Define the waiting times at each restaurant\n",
    "a = np.array([24, 25, 28, 23, 22, 20, 27])\n",
    "b = np.array([31, 33, 35, 30, 32, 36])\n",
    "\n",
    "# Compute the sample variances and degrees of freedom\n",
    "squared_var_a = np.var(a, ddof=1)\n",
    "squared_var_b = np.var(b, ddof=1)\n",
    "n_a = len(a)\n",
    "n_b = len(b)\n",
    "df_a = n_a - 1\n",
    "df_b = n_b - 1\n",
    "\n",
    "# Compute the F-value and p-value for the variance ratio test\n",
    "F = squared_var_a / squared_var_b\n",
    "p_value = 2 * (1 - f.cdf(F, df_a, df_b))\n",
    "\n",
    "# Set the significance level\n",
    "alpha = 0.05\n",
    "\n",
    "# Conduct the hypothesis test\n",
    "if p_value < alpha:\n",
    "    print(\"Reject the null hypothesis: The variances are significantly different.\")\n",
    "else:\n",
    "    print(\"Fail to reject the null hypothesis: The variances are not significantly different.\")"
   ]
  },
  {
   "cell_type": "markdown",
   "id": "83e5dd95-51a6-441d-bf85-cb9032e321e0",
   "metadata": {},
   "source": [
    "This program conducts an F-test at the 5% significance level to determine if the variances of waiting times at two different restaurants are significantly different. It uses the waiting times of Restaurant A and B to compute the sample variances (squared_var_a and squared_var_b) and degrees of freedom (df_a and df_b). The F-value and p-value for the variance ratio test are then computed using the f.cdf() function from the scipy.stats module. Finally, the program conducts the hypothesis test and prints out the conclusion of the test."
   ]
  },
  {
   "cell_type": "markdown",
   "id": "235eb5d2-0608-44bc-ba07-4fcb269395ff",
   "metadata": {},
   "source": [
    "## Q9. The following data represent the test scores of two groups of students: Group A: 80, 85, 90, 92, 87, 83; Group B: 75, 78, 82, 79, 81, 84. Conduct an F-test at the 1% significance level to determine if the variances are significantly different."
   ]
  },
  {
   "cell_type": "code",
   "execution_count": 6,
   "id": "16f4fd8a-5694-44de-988b-e5f09f8b02a5",
   "metadata": {},
   "outputs": [
    {
     "name": "stdout",
     "output_type": "stream",
     "text": [
      "Fail to reject the null hypothesis: The variances are not significantly different.\n"
     ]
    }
   ],
   "source": [
    "import numpy as np\n",
    "from scipy.stats import f\n",
    "\n",
    "# Define the test scores for each group\n",
    "a = np.array([80, 85, 90, 92, 87, 83])\n",
    "b = np.array([75, 78, 82, 79, 81, 84])\n",
    "\n",
    "# Compute the sample variances and degrees of freedom\n",
    "squared_var_a = np.var(a, ddof=1)\n",
    "squared_var_b = np.var(b, ddof=1)\n",
    "n_a = len(a)\n",
    "n_b = len(b)\n",
    "df_a = n_a - 1\n",
    "df_b = n_b - 1\n",
    "\n",
    "# Compute the F-value and p-value for the variance ratio test\n",
    "F = squared_var_a / squared_var_b\n",
    "p_value = 2 * (1 - f.cdf(F, df_a, df_b))\n",
    "\n",
    "# Set the significance level\n",
    "alpha = 0.01\n",
    "\n",
    "# Conduct the hypothesis test\n",
    "if p_value < alpha:\n",
    "    print(\"Reject the null hypothesis: The variances are significantly different.\")\n",
    "else:\n",
    "    print(\"Fail to reject the null hypothesis: The variances are not significantly different.\")"
   ]
  }
 ],
 "metadata": {
  "kernelspec": {
   "display_name": "Python 3 (ipykernel)",
   "language": "python",
   "name": "python3"
  },
  "language_info": {
   "codemirror_mode": {
    "name": "ipython",
    "version": 3
   },
   "file_extension": ".py",
   "mimetype": "text/x-python",
   "name": "python",
   "nbconvert_exporter": "python",
   "pygments_lexer": "ipython3",
   "version": "3.10.8"
  }
 },
 "nbformat": 4,
 "nbformat_minor": 5
}
