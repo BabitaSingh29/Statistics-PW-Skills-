{
 "cells": [
  {
   "cell_type": "markdown",
   "id": "47b6f200-28d3-4f10-bf90-1d7c8b8ca79e",
   "metadata": {},
   "source": [
    "## Q1. What are the three measures of central tendency?"
   ]
  },
  {
   "cell_type": "markdown",
   "id": "25d4b085-5665-400a-b79e-9f229da35a3e",
   "metadata": {},
   "source": [
    "The three measures of central tendency are:\n",
    "\n",
    "1> Mean: The mean is the arithmetic average of a set of numbers. It is calculated by adding up all the numbers in the set and then dividing the total by the number of items in the set.\n",
    "\n",
    "2>Median: The median is the middle value in a set of numbers that are arranged in order. To find the median, you need to sort the numbers in ascending or descending order and then find the middle value. If there are an even number of values, the median is the average of the two middle values.\n",
    "\n",
    "3>Mode: The mode is the value that occurs most frequently in a set of numbers. A set of numbers can have one mode, more than one mode (if two or more values occur with the same highest frequency), or no mode (if no value occurs more frequently than any other value in the set)."
   ]
  },
  {
   "cell_type": "markdown",
   "id": "9ae8634a-5ce7-4a8c-90f1-2da9eaf2ea6a",
   "metadata": {},
   "source": [
    "## Q2. What is the difference between the mean, median, and mode? How are they used to measure the central tendency of a dataset?"
   ]
  },
  {
   "cell_type": "markdown",
   "id": "b2d29fdf-9ece-4065-83c2-6f8dcfdc4822",
   "metadata": {},
   "source": [
    "The mean, median, and mode are all measures of central tendency used to describe the typical or central value in a dataset. However, they differ in the way they are calculated and in their interpretation.\n",
    "\n",
    "The mean is the sum of all the values in the dataset divided by the total number of values. It is affected by extreme values, or outliers, in the dataset and may not be a good representation of the central tendency if the dataset has a skewed distribution.\n",
    "\n",
    "The median is the middle value in the dataset, such that half of the values are greater than or equal to the median, and the other half are less than or equal to the median. The median is less sensitive to outliers than the mean and is a better measure of central tendency for skewed distributions.\n",
    "\n",
    "The mode is the value that occurs most frequently in the dataset. It is not affected by extreme values, but it may not exist or may not be unique if there are multiple values with the same frequency.\n",
    "\n",
    "In practice, the choice of the measure of central tendency depends on the characteristics of the dataset and the research question. For example, the mean is often used when the dataset has a normal distribution, while the median is preferred when the dataset is skewed. The mode is often used when describing categorical data or when looking for the most typical value in a dataset."
   ]
  },
  {
   "cell_type": "markdown",
   "id": "482b5e3e-e62c-45c8-adfa-6e671880df53",
   "metadata": {},
   "source": [
    "## Q3. Measure the three measures of central tendency for the given height data:\n",
    "### [178,177,176,177,178.2,178,175,179,180,175,178.9,176.2,177,172.5,178,176.5]"
   ]
  },
  {
   "cell_type": "markdown",
   "id": "f4dd5cab-fda7-41d3-8757-2455d66808c3",
   "metadata": {},
   "source": [
    "First, we need to sort the dataset in ascending order:\n",
    "\n",
    "[172.5, 175, 175, 176, 176.2, 176.5, 177, 177, 178, 178, 178, 178.2, 178.9, 179, 180]\n",
    "\n",
    "Next, we can use the formulas to calculate the measures of central tendency:\n",
    "\n",
    "Mean = (172.5 + 175 + 175 + 176 + 176.2 + 176.5 + 177 + 177 + 178 + 178 + 178 + 178.2 + 178.9 + 179 + 180) / 15\n",
    "\n",
    "Mean = 176.97\n",
    "\n",
    "Median = 177\n",
    "\n",
    "Mode = 178\n",
    "\n",
    "Therefore, the mean height of the dataset is approximately 176.97 cm, the median height is 177 cm, and the mode is 178 cm."
   ]
  },
  {
   "cell_type": "markdown",
   "id": "2fb33a91-ad88-4c51-91b7-f24c44bc5d46",
   "metadata": {},
   "source": [
    "## Q4. Find the standard deviation for the given data:\n",
    "### [178,177,176,177,178.2,178,175,179,180,175,178.9,176.2,177,172.5,178,176.5]"
   ]
  },
  {
   "cell_type": "markdown",
   "id": "58ade350-57c5-4b55-aeeb-7e0d23342bf4",
   "metadata": {},
   "source": [
    "1>Find the mean of the data set:\n",
    "Mean = (178 + 177 + 176 + 177 + 178.2 + 178 + 175 + 179 + 180 + 175 + 178.9 + 176.2 + 177 + 172.5 + 178 + 176.5) / 16\n",
    "= 1768.3 / 16\n",
    "= 110.519\n",
    "\n",
    "2>Subtract the mean from each value in the data set:\n",
    "Differences = [67.481, 66.481, 65.481, 66.481, 67.681, 67.481, 64.481, 68.481, 69.481, 64.481, 68.381, 65.681, 66.481, 62.981, 67.481, 65.981]\n",
    "\n",
    "3>Square each difference:\n",
    "Squared differences = [4555.238561, 4416.238561, 4283.238561, 4416.238561, 4571.737161, 4555.238561, 4162.238561, 4698.238561, 4835.238561, 4162.238561, 4678.951561, 4317.296961, 4416.238561, 3964.256961, 4555.238561, 4364.956961]\n",
    "\n",
    "4>Find the mean of the squared differences:\n",
    "Mean squared difference = (4555.238561 + 4416.238561 + 4283.238561 + 4416.238561 + 4571.737161 + 4555.238561 + 4162.238561 + 4698.238561 + 4835.238561 + 4162.238561 + 4678.951561 + 4317.296961 + 4416.238561 + 3964.256961 + 4555.238561 + 4364.956961) / 16\n",
    "= 4191.038899 / 16\n",
    "= 261.939931\n",
    "\n",
    "5>Take the square root of the mean squared difference to get the standard deviation:\n",
    "Standard deviation = √(261.939931)\n",
    "= 16.186"
   ]
  },
  {
   "cell_type": "markdown",
   "id": "aa8e3a3c-ef42-4731-b88d-984a6d1e2e51",
   "metadata": {},
   "source": [
    "## Q5. How are measures of dispersion such as range, variance, and standard deviation used to describe the spread of a dataset? Provide an example."
   ]
  },
  {
   "cell_type": "markdown",
   "id": "93f1ad68-8d16-4c9f-b7a6-f48ace5bfc9a",
   "metadata": {},
   "source": [
    "Measures of dispersion such as range, variance, and standard deviation are used to describe the spread of a dataset by indicating how spread out or tightly clustered the data points are around the central tendency (mean, median, or mode).\n",
    "\n",
    "The range is the simplest measure of dispersion and is defined as the difference between the largest and smallest values in the dataset. It provides a rough estimate of how much the data points vary from one another.\n",
    "\n",
    "The variance and standard deviation are more precise measures of dispersion that take into account the distance of each data point from the mean. The variance is calculated as the average of the squared deviations from the mean, while the standard deviation is the square root of the variance. A higher variance or standard deviation indicates that the data points are more spread out from the mean, while a lower variance or standard deviation indicates that the data points are more tightly clustered around the mean.\n",
    "\n",
    "For example, consider two datasets of student scores on a test:\n",
    "\n",
    "Dataset 1: [70, 75, 80, 85, 90] Dataset 2: [60, 70, 80, 90, 100]\n",
    "\n",
    "Both datasets have the same mean score of 80, but they have different spreads of scores. The range of Dataset 1 is 20 (90-70), while the range of Dataset 2 is 40 (100-60), indicating that the scores in Dataset 2 are more spread out. The variance of Dataset 1 is 62.5, and the standard deviation is 7.91, while the variance of Dataset 2 is 200 and the standard deviation is 14.14, again indicating that the scores in Dataset 2 are more spread out. Therefore, measures of dispersion such as range, variance, and standard deviation can provide valuable information about the spread of a dataset and help us better understand the distribution of data points."
   ]
  },
  {
   "cell_type": "markdown",
   "id": "55b391e2-109b-46bc-8a1f-8a975637dccb",
   "metadata": {},
   "source": [
    "## Q6. What is a Venn diagram?"
   ]
  },
  {
   "cell_type": "markdown",
   "id": "9359faef-2d1f-4978-a9cf-fe628382553d",
   "metadata": {},
   "source": [
    "A Venn diagram is a visual tool used to represent sets of objects or elements, and their relationships to each other. It consists of overlapping circles, where each circle represents a set, and the overlapping region represents the elements that belong to both sets. It is commonly used in mathematics, logic, and statistics to visually illustrate relationships and overlaps between sets of data, and can help to simplify complex concepts and data sets."
   ]
  },
  {
   "cell_type": "markdown",
   "id": "97e3cd61-59ab-4727-9365-710fa6d98761",
   "metadata": {},
   "source": [
    "## Q7. For the two given sets A = (2,3,4,5,6,7) & B = (0,2,6,8,10). Find:\n",
    "### (i) A intersection B\n",
    "### (ii) A ⋃ B"
   ]
  },
  {
   "cell_type": "markdown",
   "id": "e03f5c0f-f97e-467b-90d4-e011bebf7498",
   "metadata": {},
   "source": [
    "(i) A ∩ B (the intersection of A and B) is the set of elements that are common to both sets A and B. Therefore:\n",
    "A ∩ B = {2,6}\n",
    "\n",
    "(ii) A ⋃ B (the union of A and B) is the set of all elements that are in A, or B, or both. Therefore:\n",
    "A ⋃ B = {0,2,3,4,5,6,7,8,10}"
   ]
  },
  {
   "cell_type": "markdown",
   "id": "ff4c44e0-3317-4d7f-9071-144db1e3eac8",
   "metadata": {},
   "source": [
    "## Q8. What do you understand about skewness in data?"
   ]
  },
  {
   "cell_type": "markdown",
   "id": "ebda3714-f6be-4294-b18c-51cee9032b56",
   "metadata": {},
   "source": [
    "Skewness is a measure of the asymmetry or lack of symmetry in a dataset. It indicates the degree to which the data is skewed or distorted from a normal distribution.\n",
    "\n",
    "In a normal distribution, the data is symmetrical, with an equal number of data points on either side of the mean. However, in a skewed distribution, the data is not evenly distributed, with one tail of the distribution being longer or stretched out than the other.\n",
    "\n",
    "There are two types of skewness:\n",
    "\n",
    "1>Positive skewness: In a positively skewed distribution, the tail of the distribution extends to the right, with most of the data concentrated on the left side of the distribution. This is also called right-skewed or right-tailed distribution.\n",
    "\n",
    "2>Negative skewness: In a negatively skewed distribution, the tail of the distribution extends to the left, with most of the data concentrated on the right side of the distribution. This is also called left-skewed or left-tailed distribution.\n",
    "\n",
    "Skewness can have an impact on statistical analysis, as it can affect the central tendency of the data (mean, median, and mode) and the accuracy of some statistical tests. It is important to identify the presence and degree of skewness in a dataset before making any conclusions or decisions based on the data.\n"
   ]
  },
  {
   "cell_type": "markdown",
   "id": "e295d152-98fb-451f-990e-4f54985eafea",
   "metadata": {},
   "source": [
    "## Q9. If a data is right skewed then what will be the position of median with respect to mean?"
   ]
  },
  {
   "cell_type": "markdown",
   "id": "ee9fffe2-431d-465a-b2b9-bc4d0b4e957c",
   "metadata": {},
   "source": [
    "If a data is right skewed, the median will be less than the mean. This is because in a right-skewed distribution, the tail of the distribution is on the right side, which means there are some extreme values on the right side that pull the mean towards the right, making it higher than the median. The median, on the other hand, is not affected by extreme values and is only influenced by the values in the middle of the distribution. As a result, the median is typically less than the mean in a right-skewed distribution."
   ]
  },
  {
   "cell_type": "markdown",
   "id": "efe035f2-cff3-49f1-85f1-1141075d4844",
   "metadata": {},
   "source": [
    "## Q10. Explain the difference between covariance and correlation. How are these measures used in statistical analysis?"
   ]
  },
  {
   "cell_type": "markdown",
   "id": "8de49b76-bbdd-49d8-a69f-5cab80cf71d1",
   "metadata": {},
   "source": [
    "Covariance and correlation are both measures of the relationship between two variables in a dataset. However, there are some key differences between these two measures:\n",
    "\n",
    "1>Definition: Covariance measures the degree to which two variables in a dataset vary together, while correlation measures the strength and direction of the linear relationship between two variables.\n",
    "\n",
    "2>Range of values: Covariance can take on any value between negative infinity and positive infinity, while correlation is limited to values between -1 and 1.\n",
    "\n",
    "3.Interpretation: A positive covariance indicates that two variables tend to increase or decrease together, while a negative covariance indicates that one variable tends to increase while the other decreases. However, the magnitude of covariance is difficult to interpret. On the other hand, correlation provides a clear indication of the strength and direction of the relationship between two variables. A positive correlation means that as one variable increases, the other variable tends to increase, and vice versa. A negative correlation means that as one variable increases, the other variable tends to decrease, and vice versa.\n",
    "\n",
    "4>Units: Covariance is expressed in the units of the variables being measured, while correlation is unitless, as it measures the relationship between variables relative to their standard deviations."
   ]
  },
  {
   "cell_type": "markdown",
   "id": "24e35989-0ba9-4d07-a124-eed6e07aaf41",
   "metadata": {},
   "source": [
    "## Q11. What is the formula for calculating the sample mean? Provide an example calculation for a dataset."
   ]
  },
  {
   "cell_type": "markdown",
   "id": "1c7ed271-d4b6-4f82-bfbb-7a2779d62a53",
   "metadata": {},
   "source": [
    "The formula for calculating the sample mean (also known as the arithmetic mean) is:\n",
    "\n",
    "sample mean = (sum of all values in the dataset) / (number of values in the dataset)\n",
    "\n",
    "For example, consider the following dataset:\n",
    "\n",
    "4, 8, 6, 10, 12\n",
    "\n",
    "To find the sample mean of this dataset, we first need to add up all the values:\n",
    "\n",
    "4 + 8 + 6 + 10 + 12 = 40\n",
    "\n",
    "Next, we divide the sum by the number of values in the dataset, which is 5:\n",
    "\n",
    "sample mean = 40 / 5 = 8\n",
    "\n",
    "Therefore, the sample mean of this dataset is 8."
   ]
  },
  {
   "cell_type": "markdown",
   "id": "7a9082ae-088b-490c-b04b-4fdab79d87c3",
   "metadata": {},
   "source": [
    "## Q12. For a normal distribution data what is the relationship between its measure of central tendency?"
   ]
  },
  {
   "cell_type": "markdown",
   "id": "f9a69abe-1da0-4fcb-be24-5c16d0264cd8",
   "metadata": {},
   "source": [
    "For a normal distribution, the mean, median, and mode are all equal. In other words, the measure of central tendency is the same, and they are located at the center of the distribution. This is because a normal distribution is symmetric around its mean, so the middle value (median) is the same as the average value (mean), which is also the most frequent value (mode).\n",
    "\n",
    "This relationship between the mean, median, and mode is a key characteristic of a normal distribution and can be used to identify if a dataset is approximately normally distributed."
   ]
  },
  {
   "cell_type": "markdown",
   "id": "facea3c2-2e82-4006-828c-14243b0e5215",
   "metadata": {},
   "source": [
    "## Q13. How is covariance different from correlation?"
   ]
  },
  {
   "cell_type": "markdown",
   "id": "b4275c37-9d97-4d36-8b8d-25aae25ea5b3",
   "metadata": {},
   "source": [
    "Covariance and correlation are two different measures of the relationship between two variables in a dataset:\n",
    "\n",
    "Definition: Covariance measures the degree to which two variables in a dataset vary together, while correlation measures the strength and direction of the linear relationship between two variables.\n",
    "\n",
    "Range of values: Covariance can take on any value between negative infinity and positive infinity, while correlation is limited to values between -1 and 1.\n",
    "\n",
    "Interpretation: A positive covariance indicates that two variables tend to increase or decrease together, while a negative covariance indicates that one variable tends to increase while the other decreases. However, the magnitude of covariance is difficult to interpret. On the other hand, correlation provides a clear indication of the strength and direction of the relationship between two variables. A positive correlation means that as one variable increases, the other variable tends to increase, and vice versa. A negative correlation means that as one variable increases, the other variable tends to decrease, and vice versa.\n",
    "\n",
    "Units: Covariance is expressed in the units of the variables being measured, while correlation is unitless, as it measures the relationship between variables relative to their standard deviations."
   ]
  },
  {
   "cell_type": "markdown",
   "id": "16d5b3fe-6376-4d64-af8f-f73df085d1f8",
   "metadata": {},
   "source": [
    "## Q14. How do outliers affect measures of central tendency and dispersion? Provide an example."
   ]
  },
  {
   "cell_type": "markdown",
   "id": "454ce16a-c19f-4620-b32d-fe96f12373cd",
   "metadata": {},
   "source": [
    "Outliers are extreme values that differ significantly from the other values in a dataset. They can have a significant impact on measures of central tendency and dispersion:\n",
    "\n",
    "Measures of central tendency: Outliers can greatly affect the mean, but have little effect on the median and mode. This is because the mean is sensitive to extreme values, and outliers can pull it towards the extreme end of the distribution. For example, consider a dataset of salaries for a company that looks like this:\n",
    "\n",
    "30,000, 35,000, 40,000, 45,000, 50,000, 55,000, 60,000, 75,000, 100,000\n",
    "\n",
    "The mean salary is (30,000+35,000+40,000+45,000+50,000+55,000+60,000+75,000+100,000) / 9 = 54,444. The outlier of 100,000 has pulled the mean towards the upper end of the distribution.\n",
    "\n",
    "Measures of dispersion: Outliers can greatly affect measures of dispersion such as range, variance, and standard deviation. For example, consider the same salary dataset as above. The range of salaries is 100,000 - 30,000 = 70,000. However, if we remove the outlier of 100,000, the range becomes 60,000 - 30,000 = 30,000. Similarly, the variance and standard deviation will be larger if the dataset includes an outlier.\n",
    "\n",
    "In summary, outliers can greatly affect measures of central tendency and dispersion, and it is important to identify and handle them appropriately in statistical analysis."
   ]
  }
 ],
 "metadata": {
  "kernelspec": {
   "display_name": "Python 3 (ipykernel)",
   "language": "python",
   "name": "python3"
  },
  "language_info": {
   "codemirror_mode": {
    "name": "ipython",
    "version": 3
   },
   "file_extension": ".py",
   "mimetype": "text/x-python",
   "name": "python",
   "nbconvert_exporter": "python",
   "pygments_lexer": "ipython3",
   "version": "3.10.8"
  }
 },
 "nbformat": 4,
 "nbformat_minor": 5
}
